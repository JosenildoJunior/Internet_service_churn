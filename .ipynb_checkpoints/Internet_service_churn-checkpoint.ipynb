{
 "cells": [
  {
   "cell_type": "markdown",
   "metadata": {
    "id": "i67ALOMkWZn0"
   },
   "source": [
    "# *Analise exploratória dos dados*"
   ]
  },
  {
   "cell_type": "code",
   "execution_count": 2,
   "metadata": {
    "id": "xLqXxNusotEC"
   },
   "outputs": [],
   "source": [
    "import pandas as pd\n",
    "#import missingno as missing\n",
    "import seaborn as sns"
   ]
  },
  {
   "cell_type": "code",
   "execution_count": 3,
   "metadata": {
    "colab": {
     "base_uri": "https://localhost:8080/",
     "height": 206
    },
    "id": "M9AuP8FTqnYm",
    "outputId": "a5d50e4e-2939-4f5e-b2b9-8afcc7b57dba"
   },
   "outputs": [
    {
     "ename": "FileNotFoundError",
     "evalue": "[Errno 2] No such file or directory: '/content/drive/MyDrive/Dados/internet_service_churn.csv'",
     "output_type": "error",
     "traceback": [
      "\u001b[1;31m---------------------------------------------------------------------------\u001b[0m",
      "\u001b[1;31mFileNotFoundError\u001b[0m                         Traceback (most recent call last)",
      "\u001b[1;32m~\\AppData\\Local\\Temp\\ipykernel_13976\\218541548.py\u001b[0m in \u001b[0;36m<module>\u001b[1;34m\u001b[0m\n\u001b[1;32m----> 1\u001b[1;33m \u001b[0mdados\u001b[0m \u001b[1;33m=\u001b[0m \u001b[0mpd\u001b[0m\u001b[1;33m.\u001b[0m\u001b[0mread_csv\u001b[0m\u001b[1;33m(\u001b[0m\u001b[1;34m'/content/drive/MyDrive/Dados/internet_service_churn.csv'\u001b[0m\u001b[1;33m)\u001b[0m\u001b[1;33m\u001b[0m\u001b[1;33m\u001b[0m\u001b[0m\n\u001b[0m\u001b[0;32m      2\u001b[0m \u001b[0mdados\u001b[0m\u001b[1;33m.\u001b[0m\u001b[0mhead\u001b[0m\u001b[1;33m(\u001b[0m\u001b[1;33m)\u001b[0m\u001b[1;33m\u001b[0m\u001b[1;33m\u001b[0m\u001b[0m\n",
      "\u001b[1;32m~\\anaconda3\\lib\\site-packages\\pandas\\util\\_decorators.py\u001b[0m in \u001b[0;36mwrapper\u001b[1;34m(*args, **kwargs)\u001b[0m\n\u001b[0;32m    309\u001b[0m                     \u001b[0mstacklevel\u001b[0m\u001b[1;33m=\u001b[0m\u001b[0mstacklevel\u001b[0m\u001b[1;33m,\u001b[0m\u001b[1;33m\u001b[0m\u001b[1;33m\u001b[0m\u001b[0m\n\u001b[0;32m    310\u001b[0m                 )\n\u001b[1;32m--> 311\u001b[1;33m             \u001b[1;32mreturn\u001b[0m \u001b[0mfunc\u001b[0m\u001b[1;33m(\u001b[0m\u001b[1;33m*\u001b[0m\u001b[0margs\u001b[0m\u001b[1;33m,\u001b[0m \u001b[1;33m**\u001b[0m\u001b[0mkwargs\u001b[0m\u001b[1;33m)\u001b[0m\u001b[1;33m\u001b[0m\u001b[1;33m\u001b[0m\u001b[0m\n\u001b[0m\u001b[0;32m    312\u001b[0m \u001b[1;33m\u001b[0m\u001b[0m\n\u001b[0;32m    313\u001b[0m         \u001b[1;32mreturn\u001b[0m \u001b[0mwrapper\u001b[0m\u001b[1;33m\u001b[0m\u001b[1;33m\u001b[0m\u001b[0m\n",
      "\u001b[1;32m~\\anaconda3\\lib\\site-packages\\pandas\\io\\parsers\\readers.py\u001b[0m in \u001b[0;36mread_csv\u001b[1;34m(filepath_or_buffer, sep, delimiter, header, names, index_col, usecols, squeeze, prefix, mangle_dupe_cols, dtype, engine, converters, true_values, false_values, skipinitialspace, skiprows, skipfooter, nrows, na_values, keep_default_na, na_filter, verbose, skip_blank_lines, parse_dates, infer_datetime_format, keep_date_col, date_parser, dayfirst, cache_dates, iterator, chunksize, compression, thousands, decimal, lineterminator, quotechar, quoting, doublequote, escapechar, comment, encoding, encoding_errors, dialect, error_bad_lines, warn_bad_lines, on_bad_lines, delim_whitespace, low_memory, memory_map, float_precision, storage_options)\u001b[0m\n\u001b[0;32m    676\u001b[0m     \u001b[0mkwds\u001b[0m\u001b[1;33m.\u001b[0m\u001b[0mupdate\u001b[0m\u001b[1;33m(\u001b[0m\u001b[0mkwds_defaults\u001b[0m\u001b[1;33m)\u001b[0m\u001b[1;33m\u001b[0m\u001b[1;33m\u001b[0m\u001b[0m\n\u001b[0;32m    677\u001b[0m \u001b[1;33m\u001b[0m\u001b[0m\n\u001b[1;32m--> 678\u001b[1;33m     \u001b[1;32mreturn\u001b[0m \u001b[0m_read\u001b[0m\u001b[1;33m(\u001b[0m\u001b[0mfilepath_or_buffer\u001b[0m\u001b[1;33m,\u001b[0m \u001b[0mkwds\u001b[0m\u001b[1;33m)\u001b[0m\u001b[1;33m\u001b[0m\u001b[1;33m\u001b[0m\u001b[0m\n\u001b[0m\u001b[0;32m    679\u001b[0m \u001b[1;33m\u001b[0m\u001b[0m\n\u001b[0;32m    680\u001b[0m \u001b[1;33m\u001b[0m\u001b[0m\n",
      "\u001b[1;32m~\\anaconda3\\lib\\site-packages\\pandas\\io\\parsers\\readers.py\u001b[0m in \u001b[0;36m_read\u001b[1;34m(filepath_or_buffer, kwds)\u001b[0m\n\u001b[0;32m    573\u001b[0m \u001b[1;33m\u001b[0m\u001b[0m\n\u001b[0;32m    574\u001b[0m     \u001b[1;31m# Create the parser.\u001b[0m\u001b[1;33m\u001b[0m\u001b[1;33m\u001b[0m\u001b[0m\n\u001b[1;32m--> 575\u001b[1;33m     \u001b[0mparser\u001b[0m \u001b[1;33m=\u001b[0m \u001b[0mTextFileReader\u001b[0m\u001b[1;33m(\u001b[0m\u001b[0mfilepath_or_buffer\u001b[0m\u001b[1;33m,\u001b[0m \u001b[1;33m**\u001b[0m\u001b[0mkwds\u001b[0m\u001b[1;33m)\u001b[0m\u001b[1;33m\u001b[0m\u001b[1;33m\u001b[0m\u001b[0m\n\u001b[0m\u001b[0;32m    576\u001b[0m \u001b[1;33m\u001b[0m\u001b[0m\n\u001b[0;32m    577\u001b[0m     \u001b[1;32mif\u001b[0m \u001b[0mchunksize\u001b[0m \u001b[1;32mor\u001b[0m \u001b[0miterator\u001b[0m\u001b[1;33m:\u001b[0m\u001b[1;33m\u001b[0m\u001b[1;33m\u001b[0m\u001b[0m\n",
      "\u001b[1;32m~\\anaconda3\\lib\\site-packages\\pandas\\io\\parsers\\readers.py\u001b[0m in \u001b[0;36m__init__\u001b[1;34m(self, f, engine, **kwds)\u001b[0m\n\u001b[0;32m    930\u001b[0m \u001b[1;33m\u001b[0m\u001b[0m\n\u001b[0;32m    931\u001b[0m         \u001b[0mself\u001b[0m\u001b[1;33m.\u001b[0m\u001b[0mhandles\u001b[0m\u001b[1;33m:\u001b[0m \u001b[0mIOHandles\u001b[0m \u001b[1;33m|\u001b[0m \u001b[1;32mNone\u001b[0m \u001b[1;33m=\u001b[0m \u001b[1;32mNone\u001b[0m\u001b[1;33m\u001b[0m\u001b[1;33m\u001b[0m\u001b[0m\n\u001b[1;32m--> 932\u001b[1;33m         \u001b[0mself\u001b[0m\u001b[1;33m.\u001b[0m\u001b[0m_engine\u001b[0m \u001b[1;33m=\u001b[0m \u001b[0mself\u001b[0m\u001b[1;33m.\u001b[0m\u001b[0m_make_engine\u001b[0m\u001b[1;33m(\u001b[0m\u001b[0mf\u001b[0m\u001b[1;33m,\u001b[0m \u001b[0mself\u001b[0m\u001b[1;33m.\u001b[0m\u001b[0mengine\u001b[0m\u001b[1;33m)\u001b[0m\u001b[1;33m\u001b[0m\u001b[1;33m\u001b[0m\u001b[0m\n\u001b[0m\u001b[0;32m    933\u001b[0m \u001b[1;33m\u001b[0m\u001b[0m\n\u001b[0;32m    934\u001b[0m     \u001b[1;32mdef\u001b[0m \u001b[0mclose\u001b[0m\u001b[1;33m(\u001b[0m\u001b[0mself\u001b[0m\u001b[1;33m)\u001b[0m\u001b[1;33m:\u001b[0m\u001b[1;33m\u001b[0m\u001b[1;33m\u001b[0m\u001b[0m\n",
      "\u001b[1;32m~\\anaconda3\\lib\\site-packages\\pandas\\io\\parsers\\readers.py\u001b[0m in \u001b[0;36m_make_engine\u001b[1;34m(self, f, engine)\u001b[0m\n\u001b[0;32m   1214\u001b[0m             \u001b[1;31m# \"Union[str, PathLike[str], ReadCsvBuffer[bytes], ReadCsvBuffer[str]]\"\u001b[0m\u001b[1;33m\u001b[0m\u001b[1;33m\u001b[0m\u001b[0m\n\u001b[0;32m   1215\u001b[0m             \u001b[1;31m# , \"str\", \"bool\", \"Any\", \"Any\", \"Any\", \"Any\", \"Any\"\u001b[0m\u001b[1;33m\u001b[0m\u001b[1;33m\u001b[0m\u001b[0m\n\u001b[1;32m-> 1216\u001b[1;33m             self.handles = get_handle(  # type: ignore[call-overload]\n\u001b[0m\u001b[0;32m   1217\u001b[0m                 \u001b[0mf\u001b[0m\u001b[1;33m,\u001b[0m\u001b[1;33m\u001b[0m\u001b[1;33m\u001b[0m\u001b[0m\n\u001b[0;32m   1218\u001b[0m                 \u001b[0mmode\u001b[0m\u001b[1;33m,\u001b[0m\u001b[1;33m\u001b[0m\u001b[1;33m\u001b[0m\u001b[0m\n",
      "\u001b[1;32m~\\anaconda3\\lib\\site-packages\\pandas\\io\\common.py\u001b[0m in \u001b[0;36mget_handle\u001b[1;34m(path_or_buf, mode, encoding, compression, memory_map, is_text, errors, storage_options)\u001b[0m\n\u001b[0;32m    784\u001b[0m         \u001b[1;32mif\u001b[0m \u001b[0mioargs\u001b[0m\u001b[1;33m.\u001b[0m\u001b[0mencoding\u001b[0m \u001b[1;32mand\u001b[0m \u001b[1;34m\"b\"\u001b[0m \u001b[1;32mnot\u001b[0m \u001b[1;32min\u001b[0m \u001b[0mioargs\u001b[0m\u001b[1;33m.\u001b[0m\u001b[0mmode\u001b[0m\u001b[1;33m:\u001b[0m\u001b[1;33m\u001b[0m\u001b[1;33m\u001b[0m\u001b[0m\n\u001b[0;32m    785\u001b[0m             \u001b[1;31m# Encoding\u001b[0m\u001b[1;33m\u001b[0m\u001b[1;33m\u001b[0m\u001b[0m\n\u001b[1;32m--> 786\u001b[1;33m             handle = open(\n\u001b[0m\u001b[0;32m    787\u001b[0m                 \u001b[0mhandle\u001b[0m\u001b[1;33m,\u001b[0m\u001b[1;33m\u001b[0m\u001b[1;33m\u001b[0m\u001b[0m\n\u001b[0;32m    788\u001b[0m                 \u001b[0mioargs\u001b[0m\u001b[1;33m.\u001b[0m\u001b[0mmode\u001b[0m\u001b[1;33m,\u001b[0m\u001b[1;33m\u001b[0m\u001b[1;33m\u001b[0m\u001b[0m\n",
      "\u001b[1;31mFileNotFoundError\u001b[0m: [Errno 2] No such file or directory: '/content/drive/MyDrive/Dados/internet_service_churn.csv'"
     ]
    }
   ],
   "source": [
    "dados = pd.read_csv('/content/drive/MyDrive/Dados/internet_service_churn.csv')\n",
    "dados.head()"
   ]
  },
  {
   "cell_type": "code",
   "execution_count": null,
   "metadata": {
    "colab": {
     "base_uri": "https://localhost:8080/"
    },
    "id": "tWYA796YsTJe",
    "outputId": "b70bcc70-b100-4ab9-d795-b5a7537b26dd"
   },
   "outputs": [],
   "source": [
    "# Observando as dimensões dos dados\n",
    "dados.shape"
   ]
  },
  {
   "cell_type": "code",
   "execution_count": null,
   "metadata": {
    "colab": {
     "base_uri": "https://localhost:8080/"
    },
    "id": "CQyZXK2dqzZ3",
    "outputId": "43c0a85d-b399-4301-8221-ffc36b7c3e17"
   },
   "outputs": [],
   "source": [
    "# Instalando e importando o SweetViz\n",
    "!pip install sweetviz\n",
    "import sweetviz as sv"
   ]
  },
  {
   "cell_type": "code",
   "execution_count": null,
   "metadata": {
    "colab": {
     "base_uri": "https://localhost:8080/",
     "height": 803,
     "referenced_widgets": [
      "292591fda3ba48ed880b12e5e30ec67d",
      "c5c3bf54928546c5ac3832843acc429d",
      "00f1e95bbd99433c8d24ca6f255a8bbc",
      "5ded38837b464b948dada0236659bd15",
      "97fda499252741cdb0dfde6a79099d2e",
      "4e6e0ca9b85c4f9d84d09fbe6f2ee442",
      "729c02bd0c65458dbeb1ed73967c9fbf",
      "7d1f845af4be4c01a05218f569ed7d08",
      "50635dde2bdf40e085e4f94e0331060e",
      "efa9941a83fa49b2b745141d27c0c31f",
      "546ab44b0756462d9714016d52633521"
     ]
    },
    "id": "2bmZvZcMrmjB",
    "outputId": "bbf2942f-07d2-4b24-8135-9a0b00324d5a"
   },
   "outputs": [],
   "source": [
    "# Observando os dados\n",
    "dash = sv.analyze(dados, target_feat= 'churn')\n",
    "dash.show_notebook()"
   ]
  },
  {
   "cell_type": "markdown",
   "metadata": {
    "id": "o3YzBgtAX8iY"
   },
   "source": [
    "## *Anotações feitas pós analise*\n",
    "\n",
    "\n",
    "\n",
    "*   Metade dos clientes, com algum serviço de TV assinado, não cancelam o \n",
    "*   contrato e 90% dos que não tem também cancelam.\n",
    "*   Mais da metade das pessoas que não tem serviços de filmes assinados não cancelam, enquanto 1 terço das pessoas que tem cancelam.\n",
    "*   Nos 2 primeiros anos são onde temos uma maior taxa de cancelamentos partir do 3º ano os números de cancelamentos tendem a descer.\n",
    "\n",
    "*   A partir de 5 chamados para serviços a tendência de cancelamento aumenta bastante\n",
    "\n",
    "*   Pessoas que usaram 1.5K de internet nos últimos 3 meses são as que mais cancelam\n",
    "*   Entre 350 e 400 é onde mais temos pessoas com cancelamento\n",
    "\n",
    "*   Um pouco mais da metade das pessoas que passam o limite de download tende a cancela o serviço\n"
   ]
  },
  {
   "cell_type": "markdown",
   "metadata": {
    "id": "l6Y9fqhu79Nd"
   },
   "source": [
    "# *Tratando dados ausentes*"
   ]
  },
  {
   "cell_type": "code",
   "execution_count": null,
   "metadata": {
    "colab": {
     "base_uri": "https://localhost:8080/"
    },
    "id": "Q8Zw6Tnj5IUX",
    "outputId": "4d9e02c3-4264-486d-c4b3-066f382f9213"
   },
   "outputs": [],
   "source": [
    "# Observando dados faltantes\n",
    "dados.isnull().mean()"
   ]
  },
  {
   "cell_type": "code",
   "execution_count": null,
   "metadata": {
    "colab": {
     "base_uri": "https://localhost:8080/"
    },
    "id": "NMAdcMfH8EK1",
    "outputId": "9c3d58b4-cfd5-4499-e67a-3a4a36bdab5b"
   },
   "outputs": [],
   "source": [
    "# Observando dados faltantes\n",
    "dados.isnull().sum()"
   ]
  },
  {
   "cell_type": "code",
   "execution_count": null,
   "metadata": {
    "colab": {
     "base_uri": "https://localhost:8080/",
     "height": 0
    },
    "id": "WM7sJDV76mg-",
    "outputId": "af54257c-26b2-4af9-f269-7c1a2e928566"
   },
   "outputs": [],
   "source": [
    "# Observando dados faltantes\n",
    "#missing.matrix(dados, figsize = (8, 4), color = (0, 0.1, 0.25), sparkline = False);"
   ]
  },
  {
   "cell_type": "code",
   "execution_count": null,
   "metadata": {
    "colab": {
     "base_uri": "https://localhost:8080/"
    },
    "id": "9h0PisQJ6FHe",
    "outputId": "ab606da8-34d9-487a-c897-8e9edb5a9a5a"
   },
   "outputs": [],
   "source": [
    "# Pegando a media dos dados ausentes\n",
    "f_reamining_contract = dados['reamining_contract'].mean()\n",
    "f_reamining_contract"
   ]
  },
  {
   "cell_type": "code",
   "execution_count": null,
   "metadata": {
    "id": "Srn5ga8u6Uh-"
   },
   "outputs": [],
   "source": [
    "dados['reamining_contract'] = dados['reamining_contract'].fillna(f_reamining_contract).round(2)"
   ]
  },
  {
   "cell_type": "code",
   "execution_count": null,
   "metadata": {
    "colab": {
     "base_uri": "https://localhost:8080/",
     "height": 0
    },
    "id": "hKUZuEWv9N5X",
    "outputId": "23ab90b0-0e59-4fe9-92c2-7aaa7c5bb2ec"
   },
   "outputs": [],
   "source": [
    "# Obsevando a distribuição dos dados\n",
    "sns.histplot(dados[\"reamining_contract\"], bins = 10);"
   ]
  },
  {
   "cell_type": "code",
   "execution_count": null,
   "metadata": {
    "colab": {
     "base_uri": "https://localhost:8080/",
     "height": 0
    },
    "id": "5TB1vqze94c2",
    "outputId": "8ad03cc3-77d0-4e3f-a608-a8b4e5ff3007"
   },
   "outputs": [],
   "source": [
    "# Obsevando a distribuição dos dados\n",
    "sns.histplot(dados[\"download_avg\"], bins = 10);"
   ]
  },
  {
   "cell_type": "code",
   "execution_count": null,
   "metadata": {
    "colab": {
     "base_uri": "https://localhost:8080/"
    },
    "id": "cqY94XOJ8L_w",
    "outputId": "b427e392-6b93-4e60-b2b0-d31a100146c9"
   },
   "outputs": [],
   "source": [
    "f_download_avg = dados['download_avg'].mean()\n",
    "f_download_avg"
   ]
  },
  {
   "cell_type": "code",
   "execution_count": null,
   "metadata": {
    "id": "YK97oHeB-VVG"
   },
   "outputs": [],
   "source": [
    "dados['download_avg'] = dados['download_avg'].fillna(f_download_avg)"
   ]
  },
  {
   "cell_type": "code",
   "execution_count": null,
   "metadata": {
    "id": "O3gKEwAy5cA-"
   },
   "outputs": [],
   "source": [
    "#dados.drop(['reamining_contract'], axis = 1, inplace = True)"
   ]
  },
  {
   "cell_type": "code",
   "execution_count": null,
   "metadata": {
    "colab": {
     "base_uri": "https://localhost:8080/",
     "height": 0
    },
    "id": "xknNnhQj_Eem",
    "outputId": "425177b7-1eda-46a5-f874-7c1d8d34bed0"
   },
   "outputs": [],
   "source": [
    "# Obsevando a distribuição dos dados\n",
    "sns.histplot(dados['upload_avg'], bins = 20);"
   ]
  },
  {
   "cell_type": "code",
   "execution_count": null,
   "metadata": {
    "colab": {
     "base_uri": "https://localhost:8080/"
    },
    "id": "6aGZrYWy-xD2",
    "outputId": "c69c2fae-3ec7-44ee-f28f-f3fc26407763"
   },
   "outputs": [],
   "source": [
    "f_upload_avg = dados['upload_avg'].mean()\n",
    "f_upload_avg"
   ]
  },
  {
   "cell_type": "code",
   "execution_count": null,
   "metadata": {
    "id": "6MqQnteW-3rU"
   },
   "outputs": [],
   "source": [
    "dados['upload_avg'] = dados['upload_avg'].fillna(f_upload_avg)"
   ]
  },
  {
   "cell_type": "code",
   "execution_count": null,
   "metadata": {
    "colab": {
     "base_uri": "https://localhost:8080/"
    },
    "id": "nxRkb_9s_r79",
    "outputId": "a02cac6c-96d7-4f74-b350-13bf57b0f9e7"
   },
   "outputs": [],
   "source": [
    "# Observando dados faltantes\n",
    "dados.isnull().sum()"
   ]
  },
  {
   "cell_type": "code",
   "execution_count": null,
   "metadata": {
    "colab": {
     "base_uri": "https://localhost:8080/",
     "height": 0
    },
    "id": "J6aBNXy25rp3",
    "outputId": "3219b22a-42d1-4fa2-bffb-d9f9a5d18809"
   },
   "outputs": [],
   "source": [
    "# Observando dados faltantes\n",
    "#missing.matrix(dados, figsize = (8, 4), color = (0, 0.1, 0.25), sparkline = False);"
   ]
  },
  {
   "cell_type": "markdown",
   "metadata": {
    "id": "GqhMhwlhE4Wu"
   },
   "source": [
    "# *Remoção de outliers*"
   ]
  },
  {
   "cell_type": "code",
   "execution_count": null,
   "metadata": {
    "colab": {
     "base_uri": "https://localhost:8080/",
     "height": 0
    },
    "id": "MJL0CerT_87c",
    "outputId": "2e49205c-019c-4435-fb18-a924ad18ccca"
   },
   "outputs": [],
   "source": [
    "sns.boxplot(x = dados['download_avg']).set_title(\"download_avg\");"
   ]
  },
  {
   "cell_type": "code",
   "execution_count": null,
   "metadata": {
    "colab": {
     "base_uri": "https://localhost:8080/"
    },
    "id": "ErnehZpWBs2M",
    "outputId": "9420d15a-8932-47f0-9c9a-4dd725ae27d1"
   },
   "outputs": [],
   "source": [
    "top_download_avg = dados['download_avg'].quantile(0.975)\n",
    "top_download_avg"
   ]
  },
  {
   "cell_type": "code",
   "execution_count": null,
   "metadata": {
    "id": "FTONhgSqVzsP"
   },
   "outputs": [],
   "source": [
    "dados.loc[dados['download_avg'] > top_download_avg, 'download_avg'] = top_download_avg"
   ]
  },
  {
   "cell_type": "code",
   "execution_count": null,
   "metadata": {
    "colab": {
     "base_uri": "https://localhost:8080/",
     "height": 0
    },
    "id": "6jPcE7kfDMQk",
    "outputId": "74007da7-dd57-4f57-e7a3-eb22aaa14781"
   },
   "outputs": [],
   "source": [
    "sns.boxplot(x = dados['download_avg']).set_title(\"download_avg\");"
   ]
  },
  {
   "cell_type": "code",
   "execution_count": null,
   "metadata": {
    "colab": {
     "base_uri": "https://localhost:8080/",
     "height": 0
    },
    "id": "DndFGUrEC6QV",
    "outputId": "95e30e10-e1aa-4178-e19b-9fdc1bf9bcc1"
   },
   "outputs": [],
   "source": [
    "sns.boxplot(x = dados['upload_avg']).set_title(\"upload_avg\");"
   ]
  },
  {
   "cell_type": "code",
   "execution_count": null,
   "metadata": {
    "colab": {
     "base_uri": "https://localhost:8080/"
    },
    "id": "87F84m1WDTGd",
    "outputId": "cc09b118-0209-47f3-c644-17333ca16084"
   },
   "outputs": [],
   "source": [
    "top_upload_avg = dados['upload_avg'].quantile(0.975)\n",
    "top_upload_avg"
   ]
  },
  {
   "cell_type": "code",
   "execution_count": null,
   "metadata": {
    "id": "sYrHi7tPDnbX"
   },
   "outputs": [],
   "source": [
    "dados.loc[dados['upload_avg'] > top_upload_avg, 'upload_avg'] = top_upload_avg"
   ]
  },
  {
   "cell_type": "code",
   "execution_count": null,
   "metadata": {
    "colab": {
     "base_uri": "https://localhost:8080/",
     "height": 0
    },
    "id": "Vw20SOjHEY8t",
    "outputId": "9e3f4a7e-221e-4a95-9ae5-22eb2a5c6e10"
   },
   "outputs": [],
   "source": [
    "sns.boxplot(x = dados['upload_avg']).set_title(\"upload_avg\");"
   ]
  },
  {
   "cell_type": "code",
   "execution_count": null,
   "metadata": {
    "colab": {
     "base_uri": "https://localhost:8080/",
     "height": 0
    },
    "id": "lPbuB5hImMae",
    "outputId": "c77f7453-a803-47e7-a834-342f4a20740e"
   },
   "outputs": [],
   "source": [
    "sns.boxplot(x = dados['bill_avg']).set_title(\"bill_avg\");"
   ]
  },
  {
   "cell_type": "code",
   "execution_count": null,
   "metadata": {
    "colab": {
     "base_uri": "https://localhost:8080/"
    },
    "id": "dzYobVpdmOOX",
    "outputId": "3df04d4d-7bc4-4ab8-fdbb-2580979f1e8c"
   },
   "outputs": [],
   "source": [
    "top_bill_avg = dados['bill_avg'].quantile(0.975)\n",
    "top_bill_avg"
   ]
  },
  {
   "cell_type": "code",
   "execution_count": null,
   "metadata": {
    "id": "adB-QSK5XiMn"
   },
   "outputs": [],
   "source": [
    "dados.loc[dados['bill_avg'] > top_bill_avg, 'bill_avg'] = top_bill_avg"
   ]
  },
  {
   "cell_type": "code",
   "execution_count": null,
   "metadata": {
    "colab": {
     "base_uri": "https://localhost:8080/",
     "height": 0
    },
    "id": "XjXU2clMXi2m",
    "outputId": "9451f1a5-5afd-4535-9003-cf2df5fd2705"
   },
   "outputs": [],
   "source": [
    "sns.boxplot(x = dados['bill_avg']).set_title(\"bill_avg\");"
   ]
  },
  {
   "cell_type": "markdown",
   "metadata": {
    "id": "qz1u1SUxg1e1"
   },
   "source": [
    "# *Categorização de Variáveis*"
   ]
  },
  {
   "cell_type": "code",
   "execution_count": null,
   "metadata": {
    "colab": {
     "base_uri": "https://localhost:8080/"
    },
    "id": "--BBjGdMfBAG",
    "outputId": "87fe1f5a-c686-450e-dd6c-424d145eacc2"
   },
   "outputs": [],
   "source": [
    "dados['subscription_age'].describe()"
   ]
  },
  {
   "cell_type": "code",
   "execution_count": null,
   "metadata": {
    "colab": {
     "base_uri": "https://localhost:8080/",
     "height": 398
    },
    "id": "GP6CYTpff0MG",
    "outputId": "4e7ba174-58b0-421c-bda5-b1bdeaf69859"
   },
   "outputs": [],
   "source": [
    "sns.histplot(x = dados['subscription_age']).set_title(\"subscription_age\");"
   ]
  },
  {
   "cell_type": "code",
   "execution_count": null,
   "metadata": {
    "id": "RGzz7S-qfmsL"
   },
   "outputs": [],
   "source": [
    "def aux(x):\n",
    "  if x <= 2:\n",
    "    return '0 a 2'\n",
    "  elif x <= 4:\n",
    "    return '2 a 4'\n",
    "  elif x <= 6:\n",
    "    return '4 a 6'\n",
    "  else:\n",
    "    return '6+'\n",
    "\n",
    "dados['subscription_age'] = dados['subscription_age'].apply(aux)"
   ]
  },
  {
   "cell_type": "code",
   "execution_count": null,
   "metadata": {
    "colab": {
     "base_uri": "https://localhost:8080/",
     "height": 398
    },
    "id": "b4RsL0QQf1vu",
    "outputId": "38f1396f-e512-47e8-d7c3-78a2c6d98691"
   },
   "outputs": [],
   "source": [
    "sns.histplot(x = dados['subscription_age']).set_title(\"subscription_age\");"
   ]
  },
  {
   "cell_type": "code",
   "execution_count": null,
   "metadata": {
    "colab": {
     "base_uri": "https://localhost:8080/",
     "height": 398
    },
    "id": "lKLUIqX2jUoN",
    "outputId": "918e52bd-f08b-41ba-dbee-576d34fd4dc6"
   },
   "outputs": [],
   "source": [
    "sns.histplot(x = dados['download_avg'], bins = 20).set_title(\"download_avg\");"
   ]
  },
  {
   "cell_type": "code",
   "execution_count": null,
   "metadata": {
    "id": "drqkBMORiiRe"
   },
   "outputs": [],
   "source": [
    "def aux2(x):\n",
    "  if x <= 20:\n",
    "    return '0 a 20'\n",
    "  elif x <= 40:\n",
    "    return '20 a 40'\n",
    "  elif x <= 60:\n",
    "    return '40 a 60'\n",
    "  else:\n",
    "    return '60+'\n",
    "\n",
    "dados['download_avg'] = dados['download_avg'].apply(aux2)"
   ]
  },
  {
   "cell_type": "code",
   "execution_count": null,
   "metadata": {
    "colab": {
     "base_uri": "https://localhost:8080/",
     "height": 398
    },
    "id": "WeppBwjKjRuF",
    "outputId": "f70c2925-594c-48a1-dd6a-3442574f1f3d"
   },
   "outputs": [],
   "source": [
    "sns.histplot(x = dados['download_avg']).set_title(\"download_avg\");"
   ]
  },
  {
   "cell_type": "code",
   "execution_count": null,
   "metadata": {
    "colab": {
     "base_uri": "https://localhost:8080/",
     "height": 398
    },
    "id": "xGvaU4TlkBvu",
    "outputId": "0d85bc39-0d0b-4eca-a700-c889dfcc4eb4"
   },
   "outputs": [],
   "source": [
    "sns.histplot(x = dados['bill_avg']).set_title(\"bill_avg\");"
   ]
  },
  {
   "cell_type": "code",
   "execution_count": null,
   "metadata": {
    "id": "q8DnDI_xkIdP"
   },
   "outputs": [],
   "source": [
    "def aux3(x):\n",
    "  if x <= 10:\n",
    "    return '0 a 10'\n",
    "  elif x <= 20:\n",
    "    return '10 a 20'\n",
    "  elif x <= 30:\n",
    "    return '20 a 30'\n",
    "  else:\n",
    "    return '30+'\n",
    "\n",
    "dados['bill_avg'] = dados['bill_avg'].apply(aux3)"
   ]
  },
  {
   "cell_type": "code",
   "execution_count": null,
   "metadata": {
    "colab": {
     "base_uri": "https://localhost:8080/",
     "height": 398
    },
    "id": "UrRxPhCYfnzH",
    "outputId": "85965f55-1c6f-4c9f-9293-798d93c761ba"
   },
   "outputs": [],
   "source": [
    "sns.histplot(x = dados['bill_avg']).set_title(\"bill_avg\");"
   ]
  },
  {
   "cell_type": "code",
   "execution_count": null,
   "metadata": {
    "colab": {
     "base_uri": "https://localhost:8080/",
     "height": 398
    },
    "id": "JfNP8cT3d9bg",
    "outputId": "37b45206-359d-4c19-8a52-ff1aa7d1c286"
   },
   "outputs": [],
   "source": [
    "sns.histplot(x = dados['download_over_limit']).set_title(\"download_over_limit\");"
   ]
  },
  {
   "cell_type": "code",
   "execution_count": null,
   "metadata": {
    "id": "cScIHiVsd9mO"
   },
   "outputs": [],
   "source": [
    "def aux4(x):\n",
    "  if x == 0:\n",
    "    return '0'\n",
    "  elif x <= 3:\n",
    "    return '1 a 3'\n",
    "  elif x <= 5:\n",
    "    return '3 a 5'\n",
    "  else:\n",
    "    return '5+'\n",
    "\n",
    "dados['download_over_limit'] = dados['download_over_limit'].apply(aux4)"
   ]
  },
  {
   "cell_type": "code",
   "execution_count": null,
   "metadata": {
    "colab": {
     "base_uri": "https://localhost:8080/",
     "height": 398
    },
    "id": "aMKHm2MPeCGR",
    "outputId": "af5e4e8b-8464-48ad-b8f0-3f6cf1d5dd1e"
   },
   "outputs": [],
   "source": [
    "sns.histplot(x = dados['download_over_limit']).set_title(\"download_over_limit\");"
   ]
  },
  {
   "cell_type": "markdown",
   "metadata": {
    "id": "ETmES9laFGms"
   },
   "source": [
    "# *Escala das Variáveis*"
   ]
  },
  {
   "cell_type": "code",
   "execution_count": null,
   "metadata": {
    "id": "QsKjGXgBF4X9"
   },
   "outputs": [],
   "source": [
    "# Biblioteca para fazer a PADRONIZAÇÃO\n",
    "from sklearn.preprocessing import StandardScaler\n",
    "sc = StandardScaler()\n",
    "\n",
    "#Padronização\n",
    "dados[['reamining_contract','upload_avg']] = sc.fit_transform(dados[['reamining_contract', 'upload_avg']])"
   ]
  },
  {
   "cell_type": "code",
   "execution_count": null,
   "metadata": {
    "colab": {
     "base_uri": "https://localhost:8080/",
     "height": 206
    },
    "id": "o5I2xD0fFRmV",
    "outputId": "3115261a-1337-4b85-bd62-39cb5b5cd0e4"
   },
   "outputs": [],
   "source": [
    "dados.head()"
   ]
  },
  {
   "cell_type": "markdown",
   "metadata": {
    "id": "6ffcWnrjboSn"
   },
   "source": [
    "# Dummyficação"
   ]
  },
  {
   "cell_type": "code",
   "execution_count": null,
   "metadata": {
    "colab": {
     "base_uri": "https://localhost:8080/",
     "height": 288
    },
    "id": "LP4sWgrWbp1X",
    "outputId": "7bc7176f-d99a-4cbf-f457-c6511e93cd21"
   },
   "outputs": [],
   "source": [
    "variaveis = ['subscription_age', 'download_avg', 'download_over_limit', 'bill_avg']\n",
    "\n",
    "dados = pd.get_dummies(dados, columns = variaveis, drop_first = True)\n",
    "\n",
    "dados.head()"
   ]
  },
  {
   "cell_type": "markdown",
   "metadata": {
    "id": "QmQxC4--bkR_"
   },
   "source": [
    "# *Machine Learning*"
   ]
  },
  {
   "cell_type": "code",
   "execution_count": null,
   "metadata": {
    "colab": {
     "base_uri": "https://localhost:8080/"
    },
    "id": "PvIrVtuTqjI3",
    "outputId": "92344324-aeef-466a-a09c-aa21e2ffc277"
   },
   "outputs": [],
   "source": [
    "!pip uninstall scikit-learn -y\n",
    "!pip install scikit-learn==0.23.1"
   ]
  },
  {
   "cell_type": "code",
   "execution_count": null,
   "metadata": {
    "id": "0Shf7vlTh0Re"
   },
   "outputs": [],
   "source": [
    "from sklearn.linear_model import LogisticRegression\n",
    "from sklearn.tree import DecisionTreeClassifier\n",
    "from sklearn.neighbors import KNeighborsClassifier\n",
    "from sklearn.ensemble import RandomForestClassifier\n",
    "from sklearn.ensemble import BaggingClassifier "
   ]
  },
  {
   "cell_type": "code",
   "execution_count": null,
   "metadata": {
    "id": "C6H-mEC2pFJX"
   },
   "outputs": [],
   "source": [
    "import numpy as np\n",
    "from sklearn.metrics import accuracy_score\n",
    "from sklearn.model_selection import cross_validate\n",
    "from sklearn.model_selection import RepeatedStratifiedKFold\n",
    "\n",
    "from sklearn.model_selection import GridSearchCV\n",
    "from sklearn.model_selection import RandomizedSearchCV\n",
    "\n",
    "validacao = RepeatedStratifiedKFold(n_splits = 10, n_repeats = 2)"
   ]
  },
  {
   "cell_type": "code",
   "execution_count": null,
   "metadata": {
    "colab": {
     "base_uri": "https://localhost:8080/"
    },
    "id": "A2AlBJUUnk0f",
    "outputId": "9455933f-e1bb-4294-e573-144c46d63bc0"
   },
   "outputs": [],
   "source": [
    "# Separando os dados em X e Y\n",
    "X = dados.drop('churn', axis = 1)\n",
    "y = dados['churn']\n",
    "\n",
    "lista_de_medidas = ['accuracy', 'recall', 'precision', 'balanced_accuracy', 'f1']\n",
    "nome_das_medidas = ['acurácia', 'sensibilidade', 'precisão', 'eficiência', 'f1-score']\n",
    "\n",
    "# Criando uma lista com modelos selecionados\n",
    "lista_de_modelos = [LogisticRegression(),\n",
    "                        DecisionTreeClassifier(max_depth = 3),\n",
    "                        DecisionTreeClassifier(max_depth = 5),\n",
    "                        DecisionTreeClassifier(max_depth = 7),\n",
    "                        KNeighborsClassifier(n_neighbors = 5),\n",
    "                        KNeighborsClassifier(n_neighbors = 15),\n",
    "                        KNeighborsClassifier(n_neighbors = 25),\n",
    "                        BaggingClassifier(),\n",
    "                        RandomForestClassifier(n_estimators=50, max_depth = 5),\n",
    "                        RandomForestClassifier(n_estimators=50, max_depth = 7),\n",
    "                        RandomForestClassifier(n_estimators=100, max_depth = 5),\n",
    "                        RandomForestClassifier(n_estimators=100, max_depth = 7),\n",
    "                        RandomForestClassifier(n_estimators=150, max_depth = 5),\n",
    "                        RandomForestClassifier(n_estimators=150, max_depth = 7)]\n",
    "\n",
    "nome_dos_modelos = ['Regressão Logística',\n",
    "                        'Árvore (prof = 3)',\n",
    "                        'Árvore (prof = 5)',\n",
    "                        'Árvore (prof = 7)',\n",
    "                        '5-NN',\n",
    "                        '15-NN',\n",
    "                        '25-NN',\n",
    "                        'Bagging',\n",
    "                        'Random Forest (arvs = 50, prof = 5)',\n",
    "                        'Random Forest (arvs = 50, prof = 7)',\n",
    "                        'Random Forest (arvs = 100, prof = 5)', \n",
    "                        'Random Forest (arvs = 100, prof = 7)',\n",
    "                        'Random Forest (arvs = 150, prof = 5)', \n",
    "                        'Random Forest (arvs = 150, prof = 7)']\n",
    "\n",
    "resultados0 = {}\n",
    "\n",
    "for i in range(len(lista_de_modelos)):\n",
    "\n",
    "    print('Rodando modelo: ' + nome_dos_modelos[i])\n",
    "\n",
    "    accs_vc = cross_validate(lista_de_modelos[i], X, y, cv = validacao, scoring = lista_de_medidas)\n",
    "\n",
    "    acc = accs_vc['test_accuracy'].mean()\n",
    "    sen = accs_vc['test_recall'].mean()\n",
    "    vpp = accs_vc['test_precision'].mean()\n",
    "    bac = accs_vc['test_balanced_accuracy'].mean()\n",
    "    f1s = accs_vc['test_f1'].mean()\n",
    "\n",
    "    resultados0[nome_dos_modelos[i]] = [acc, sen, vpp, bac, f1s]\n",
    "    \n",
    "    \n",
    "resultados = pd.DataFrame(resultados0, index = nome_das_medidas).T"
   ]
  },
  {
   "cell_type": "code",
   "execution_count": null,
   "metadata": {
    "colab": {
     "base_uri": "https://localhost:8080/",
     "height": 488
    },
    "id": "a1AjnPwRnuTv",
    "outputId": "2c109ad7-98b7-481f-aac7-c4427435cf61"
   },
   "outputs": [],
   "source": [
    "resultados.sort_values(by = 'acurácia', ascending = False)"
   ]
  },
  {
   "cell_type": "code",
   "execution_count": null,
   "metadata": {
    "id": "v7GB9kytbWgl"
   },
   "outputs": [],
   "source": [
    "# Bilioteca para separação de dados em treino e teste\n",
    "from sklearn.model_selection import train_test_split"
   ]
  },
  {
   "cell_type": "code",
   "execution_count": null,
   "metadata": {
    "colab": {
     "base_uri": "https://localhost:8080/"
    },
    "id": "E7wXbLo_bwoU",
    "outputId": "175f507d-c230-46d9-8732-7b250ab04749"
   },
   "outputs": [],
   "source": [
    "# Separando os dados\n",
    "X_treino, X_teste, y_treino, y_teste = train_test_split(X, y, test_size = 0.3)\n",
    "\n",
    "# Criando o modelo\n",
    "modelo = BaggingClassifier()\n",
    "\n",
    "# Treinando o modelo\n",
    "modelo.fit(X_treino, y_treino)"
   ]
  },
  {
   "cell_type": "code",
   "execution_count": null,
   "metadata": {
    "id": "5kRXE6z2crGU"
   },
   "outputs": [],
   "source": [
    "# Fazendo as previsões\n",
    "pred = modelo.predict(X_teste)"
   ]
  },
  {
   "cell_type": "code",
   "execution_count": null,
   "metadata": {
    "colab": {
     "base_uri": "https://localhost:8080/"
    },
    "id": "QPjIZRQzdmyu",
    "outputId": "6afec57a-a7c9-43ea-a423-c85ad3ddb078"
   },
   "outputs": [],
   "source": [
    "# Testando a acuracia do modelo\n",
    "score = accuracy_score(y_teste, pred)\n",
    "score"
   ]
  }
 ],
 "metadata": {
  "colab": {
   "collapsed_sections": [
    "i67ALOMkWZn0",
    "l6Y9fqhu79Nd",
    "GqhMhwlhE4Wu",
    "qz1u1SUxg1e1",
    "ETmES9laFGms",
    "6ffcWnrjboSn",
    "QmQxC4--bkR_"
   ],
   "provenance": []
  },
  "kernelspec": {
   "display_name": "Python 3 (ipykernel)",
   "language": "python",
   "name": "python3"
  },
  "language_info": {
   "codemirror_mode": {
    "name": "ipython",
    "version": 3
   },
   "file_extension": ".py",
   "mimetype": "text/x-python",
   "name": "python",
   "nbconvert_exporter": "python",
   "pygments_lexer": "ipython3",
   "version": "3.9.13"
  },
  "widgets": {
   "application/vnd.jupyter.widget-state+json": {
    "00f1e95bbd99433c8d24ca6f255a8bbc": {
     "model_module": "@jupyter-widgets/controls",
     "model_module_version": "1.5.0",
     "model_name": "FloatProgressModel",
     "state": {
      "_dom_classes": [],
      "_model_module": "@jupyter-widgets/controls",
      "_model_module_version": "1.5.0",
      "_model_name": "FloatProgressModel",
      "_view_count": null,
      "_view_module": "@jupyter-widgets/controls",
      "_view_module_version": "1.5.0",
      "_view_name": "ProgressView",
      "bar_style": "success",
      "description": "",
      "description_tooltip": null,
      "layout": "IPY_MODEL_7d1f845af4be4c01a05218f569ed7d08",
      "max": 1,
      "min": 0,
      "orientation": "horizontal",
      "style": "IPY_MODEL_50635dde2bdf40e085e4f94e0331060e",
      "value": 1
     }
    },
    "292591fda3ba48ed880b12e5e30ec67d": {
     "model_module": "@jupyter-widgets/controls",
     "model_module_version": "1.5.0",
     "model_name": "HBoxModel",
     "state": {
      "_dom_classes": [],
      "_model_module": "@jupyter-widgets/controls",
      "_model_module_version": "1.5.0",
      "_model_name": "HBoxModel",
      "_view_count": null,
      "_view_module": "@jupyter-widgets/controls",
      "_view_module_version": "1.5.0",
      "_view_name": "HBoxView",
      "box_style": "",
      "children": [
       "IPY_MODEL_c5c3bf54928546c5ac3832843acc429d",
       "IPY_MODEL_00f1e95bbd99433c8d24ca6f255a8bbc",
       "IPY_MODEL_5ded38837b464b948dada0236659bd15"
      ],
      "layout": "IPY_MODEL_97fda499252741cdb0dfde6a79099d2e"
     }
    },
    "4e6e0ca9b85c4f9d84d09fbe6f2ee442": {
     "model_module": "@jupyter-widgets/base",
     "model_module_version": "1.2.0",
     "model_name": "LayoutModel",
     "state": {
      "_model_module": "@jupyter-widgets/base",
      "_model_module_version": "1.2.0",
      "_model_name": "LayoutModel",
      "_view_count": null,
      "_view_module": "@jupyter-widgets/base",
      "_view_module_version": "1.2.0",
      "_view_name": "LayoutView",
      "align_content": null,
      "align_items": null,
      "align_self": null,
      "border": null,
      "bottom": null,
      "display": null,
      "flex": null,
      "flex_flow": null,
      "grid_area": null,
      "grid_auto_columns": null,
      "grid_auto_flow": null,
      "grid_auto_rows": null,
      "grid_column": null,
      "grid_gap": null,
      "grid_row": null,
      "grid_template_areas": null,
      "grid_template_columns": null,
      "grid_template_rows": null,
      "height": null,
      "justify_content": null,
      "justify_items": null,
      "left": null,
      "margin": null,
      "max_height": null,
      "max_width": null,
      "min_height": null,
      "min_width": null,
      "object_fit": null,
      "object_position": null,
      "order": null,
      "overflow": null,
      "overflow_x": null,
      "overflow_y": null,
      "padding": null,
      "right": null,
      "top": null,
      "visibility": null,
      "width": null
     }
    },
    "50635dde2bdf40e085e4f94e0331060e": {
     "model_module": "@jupyter-widgets/controls",
     "model_module_version": "1.5.0",
     "model_name": "ProgressStyleModel",
     "state": {
      "_model_module": "@jupyter-widgets/controls",
      "_model_module_version": "1.5.0",
      "_model_name": "ProgressStyleModel",
      "_view_count": null,
      "_view_module": "@jupyter-widgets/base",
      "_view_module_version": "1.2.0",
      "_view_name": "StyleView",
      "bar_color": null,
      "description_width": ""
     }
    },
    "546ab44b0756462d9714016d52633521": {
     "model_module": "@jupyter-widgets/controls",
     "model_module_version": "1.5.0",
     "model_name": "DescriptionStyleModel",
     "state": {
      "_model_module": "@jupyter-widgets/controls",
      "_model_module_version": "1.5.0",
      "_model_name": "DescriptionStyleModel",
      "_view_count": null,
      "_view_module": "@jupyter-widgets/base",
      "_view_module_version": "1.2.0",
      "_view_name": "StyleView",
      "description_width": ""
     }
    },
    "5ded38837b464b948dada0236659bd15": {
     "model_module": "@jupyter-widgets/controls",
     "model_module_version": "1.5.0",
     "model_name": "HTMLModel",
     "state": {
      "_dom_classes": [],
      "_model_module": "@jupyter-widgets/controls",
      "_model_module_version": "1.5.0",
      "_model_name": "HTMLModel",
      "_view_count": null,
      "_view_module": "@jupyter-widgets/controls",
      "_view_module_version": "1.5.0",
      "_view_name": "HTMLView",
      "description": "",
      "description_tooltip": null,
      "layout": "IPY_MODEL_efa9941a83fa49b2b745141d27c0c31f",
      "placeholder": "​",
      "style": "IPY_MODEL_546ab44b0756462d9714016d52633521",
      "value": " [100%]   00:01 -&gt; (00:00 left)"
     }
    },
    "729c02bd0c65458dbeb1ed73967c9fbf": {
     "model_module": "@jupyter-widgets/controls",
     "model_module_version": "1.5.0",
     "model_name": "DescriptionStyleModel",
     "state": {
      "_model_module": "@jupyter-widgets/controls",
      "_model_module_version": "1.5.0",
      "_model_name": "DescriptionStyleModel",
      "_view_count": null,
      "_view_module": "@jupyter-widgets/base",
      "_view_module_version": "1.2.0",
      "_view_name": "StyleView",
      "description_width": ""
     }
    },
    "7d1f845af4be4c01a05218f569ed7d08": {
     "model_module": "@jupyter-widgets/base",
     "model_module_version": "1.2.0",
     "model_name": "LayoutModel",
     "state": {
      "_model_module": "@jupyter-widgets/base",
      "_model_module_version": "1.2.0",
      "_model_name": "LayoutModel",
      "_view_count": null,
      "_view_module": "@jupyter-widgets/base",
      "_view_module_version": "1.2.0",
      "_view_name": "LayoutView",
      "align_content": null,
      "align_items": null,
      "align_self": null,
      "border": null,
      "bottom": null,
      "display": null,
      "flex": "2",
      "flex_flow": null,
      "grid_area": null,
      "grid_auto_columns": null,
      "grid_auto_flow": null,
      "grid_auto_rows": null,
      "grid_column": null,
      "grid_gap": null,
      "grid_row": null,
      "grid_template_areas": null,
      "grid_template_columns": null,
      "grid_template_rows": null,
      "height": null,
      "justify_content": null,
      "justify_items": null,
      "left": null,
      "margin": null,
      "max_height": null,
      "max_width": null,
      "min_height": null,
      "min_width": null,
      "object_fit": null,
      "object_position": null,
      "order": null,
      "overflow": null,
      "overflow_x": null,
      "overflow_y": null,
      "padding": null,
      "right": null,
      "top": null,
      "visibility": null,
      "width": null
     }
    },
    "97fda499252741cdb0dfde6a79099d2e": {
     "model_module": "@jupyter-widgets/base",
     "model_module_version": "1.2.0",
     "model_name": "LayoutModel",
     "state": {
      "_model_module": "@jupyter-widgets/base",
      "_model_module_version": "1.2.0",
      "_model_name": "LayoutModel",
      "_view_count": null,
      "_view_module": "@jupyter-widgets/base",
      "_view_module_version": "1.2.0",
      "_view_name": "LayoutView",
      "align_content": null,
      "align_items": null,
      "align_self": null,
      "border": null,
      "bottom": null,
      "display": "inline-flex",
      "flex": null,
      "flex_flow": "row wrap",
      "grid_area": null,
      "grid_auto_columns": null,
      "grid_auto_flow": null,
      "grid_auto_rows": null,
      "grid_column": null,
      "grid_gap": null,
      "grid_row": null,
      "grid_template_areas": null,
      "grid_template_columns": null,
      "grid_template_rows": null,
      "height": null,
      "justify_content": null,
      "justify_items": null,
      "left": null,
      "margin": null,
      "max_height": null,
      "max_width": null,
      "min_height": null,
      "min_width": null,
      "object_fit": null,
      "object_position": null,
      "order": null,
      "overflow": null,
      "overflow_x": null,
      "overflow_y": null,
      "padding": null,
      "right": null,
      "top": null,
      "visibility": null,
      "width": "100%"
     }
    },
    "c5c3bf54928546c5ac3832843acc429d": {
     "model_module": "@jupyter-widgets/controls",
     "model_module_version": "1.5.0",
     "model_name": "HTMLModel",
     "state": {
      "_dom_classes": [],
      "_model_module": "@jupyter-widgets/controls",
      "_model_module_version": "1.5.0",
      "_model_name": "HTMLModel",
      "_view_count": null,
      "_view_module": "@jupyter-widgets/controls",
      "_view_module_version": "1.5.0",
      "_view_name": "HTMLView",
      "description": "",
      "description_tooltip": null,
      "layout": "IPY_MODEL_4e6e0ca9b85c4f9d84d09fbe6f2ee442",
      "placeholder": "​",
      "style": "IPY_MODEL_729c02bd0c65458dbeb1ed73967c9fbf",
      "value": "Done! Use &#x27;show&#x27; commands to display/save.   "
     }
    },
    "efa9941a83fa49b2b745141d27c0c31f": {
     "model_module": "@jupyter-widgets/base",
     "model_module_version": "1.2.0",
     "model_name": "LayoutModel",
     "state": {
      "_model_module": "@jupyter-widgets/base",
      "_model_module_version": "1.2.0",
      "_model_name": "LayoutModel",
      "_view_count": null,
      "_view_module": "@jupyter-widgets/base",
      "_view_module_version": "1.2.0",
      "_view_name": "LayoutView",
      "align_content": null,
      "align_items": null,
      "align_self": null,
      "border": null,
      "bottom": null,
      "display": null,
      "flex": null,
      "flex_flow": null,
      "grid_area": null,
      "grid_auto_columns": null,
      "grid_auto_flow": null,
      "grid_auto_rows": null,
      "grid_column": null,
      "grid_gap": null,
      "grid_row": null,
      "grid_template_areas": null,
      "grid_template_columns": null,
      "grid_template_rows": null,
      "height": null,
      "justify_content": null,
      "justify_items": null,
      "left": null,
      "margin": null,
      "max_height": null,
      "max_width": null,
      "min_height": null,
      "min_width": null,
      "object_fit": null,
      "object_position": null,
      "order": null,
      "overflow": null,
      "overflow_x": null,
      "overflow_y": null,
      "padding": null,
      "right": null,
      "top": null,
      "visibility": null,
      "width": null
     }
    }
   }
  }
 },
 "nbformat": 4,
 "nbformat_minor": 1
}
